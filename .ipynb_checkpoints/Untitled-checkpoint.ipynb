{
 "cells": [
  {
   "cell_type": "code",
   "execution_count": null,
   "id": "9fe40fe2-769b-488f-8f30-57ee38ecabf5",
   "metadata": {},
   "outputs": [],
   "source": [
    "# Ask for the user's name\n",
    "name = input(\"Enter your name: \")\n",
    "\n",
    "# Ask for a color\n",
    "color = input(\"What’s your favorite color? \").lower()\n",
    "\n",
    "# Define the Something™ function\n",
    "def something(color):\n",
    "    if color == \"red\":\n",
    "        return \"apple\"\n",
    "    elif color == \"yellow\":\n",
    "        return \"banana\"\n",
    "    elif color == \"orange\":\n",
    "        return \"orange\"\n",
    "    elif color == \"green\":\n",
    "        return \"kiwi\"\n",
    "    elif color == \"purple\":\n",
    "        return \"grape\"\n",
    "    else:\n",
    "        return \"Sorry, I don't know a fruit for that color!\"\n",
    "\n",
    "# Get the fruit\n",
    "fruit = something(color)\n",
    "\n",
    "# Print the result\n",
    "print(f\"Hey {name}! Your favorite color '{color}' reminds me of an {fruit}.\")\n"
   ]
  }
 ],
 "metadata": {
  "kernelspec": {
   "display_name": "Python 3 (ipykernel)",
   "language": "python",
   "name": "python3"
  },
  "language_info": {
   "codemirror_mode": {
    "name": "ipython",
    "version": 3
   },
   "file_extension": ".py",
   "mimetype": "text/x-python",
   "name": "python",
   "nbconvert_exporter": "python",
   "pygments_lexer": "ipython3",
   "version": "3.11.13"
  }
 },
 "nbformat": 4,
 "nbformat_minor": 5
}
